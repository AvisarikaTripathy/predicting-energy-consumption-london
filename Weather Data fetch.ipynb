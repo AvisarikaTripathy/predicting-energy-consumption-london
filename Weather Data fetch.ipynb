{
 "cells": [
  {
   "cell_type": "code",
   "execution_count": 1,
   "id": "cf2f0317",
   "metadata": {},
   "outputs": [],
   "source": [
    "from wwo_hist import retrieve_hist_data\n"
   ]
  },
  {
   "cell_type": "code",
   "execution_count": 3,
   "id": "406f63df",
   "metadata": {},
   "outputs": [],
   "source": [
    "import os\n",
    "os.chdir(\"weather_data\")"
   ]
  },
  {
   "cell_type": "code",
   "execution_count": 4,
   "id": "e9840b52",
   "metadata": {},
   "outputs": [
    {
     "name": "stdout",
     "output_type": "stream",
     "text": [
      "\n",
      "\n",
      "Retrieving weather data for london\n",
      "\n",
      "\n",
      "Currently retrieving data for london: from 2011-11-01 to 2011-11-30\n"
     ]
    },
    {
     "name": "stderr",
     "output_type": "stream",
     "text": [
      "C:\\Users\\avitr\\Anaconda3\\envs\\myenvpredict\\lib\\site-packages\\wwo_hist\\__init__.py:69: FutureWarning: Argument `closed` is deprecated in favor of `inclusive`.\n",
      "  list_mon_begin = pd.date_range(start_date, end_date, freq='MS', closed='right')\n",
      "C:\\Users\\avitr\\Anaconda3\\envs\\myenvpredict\\lib\\site-packages\\wwo_hist\\__init__.py:74: FutureWarning: Argument `closed` is deprecated in favor of `inclusive`.\n",
      "  list_mon_end = pd.date_range(start_date, end_date, freq='M', closed='left')\n"
     ]
    },
    {
     "name": "stdout",
     "output_type": "stream",
     "text": [
      "Time elapsed (hh:mm:ss.ms) 0:00:13.010778\n",
      "Currently retrieving data for london: from 2011-12-01 to 2011-12-31\n",
      "Time elapsed (hh:mm:ss.ms) 0:00:14.462455\n",
      "Currently retrieving data for london: from 2012-01-01 to 2012-01-31\n",
      "Time elapsed (hh:mm:ss.ms) 0:00:15.497722\n",
      "Currently retrieving data for london: from 2012-02-01 to 2012-02-29\n",
      "Time elapsed (hh:mm:ss.ms) 0:00:16.351184\n",
      "Currently retrieving data for london: from 2012-03-01 to 2012-03-31\n",
      "Time elapsed (hh:mm:ss.ms) 0:00:17.518305\n",
      "Currently retrieving data for london: from 2012-04-01 to 2012-04-30\n",
      "Time elapsed (hh:mm:ss.ms) 0:00:18.666906\n",
      "Currently retrieving data for london: from 2012-05-01 to 2012-05-31\n",
      "Time elapsed (hh:mm:ss.ms) 0:00:19.810140\n",
      "Currently retrieving data for london: from 2012-06-01 to 2012-06-30\n",
      "Time elapsed (hh:mm:ss.ms) 0:00:21.078819\n",
      "Currently retrieving data for london: from 2012-07-01 to 2012-07-31\n",
      "Time elapsed (hh:mm:ss.ms) 0:00:22.236956\n",
      "Currently retrieving data for london: from 2012-08-01 to 2012-08-31\n",
      "Time elapsed (hh:mm:ss.ms) 0:00:23.238601\n",
      "Currently retrieving data for london: from 2012-09-01 to 2012-09-30\n",
      "Time elapsed (hh:mm:ss.ms) 0:00:24.341131\n",
      "Currently retrieving data for london: from 2012-10-01 to 2012-10-31\n",
      "Time elapsed (hh:mm:ss.ms) 0:00:25.535157\n",
      "Currently retrieving data for london: from 2012-11-01 to 2012-11-30\n",
      "Time elapsed (hh:mm:ss.ms) 0:00:26.526114\n",
      "Currently retrieving data for london: from 2012-12-01 to 2012-12-31\n",
      "Time elapsed (hh:mm:ss.ms) 0:00:27.534820\n",
      "Currently retrieving data for london: from 2013-01-01 to 2013-01-31\n",
      "Time elapsed (hh:mm:ss.ms) 0:00:30.386447\n",
      "Currently retrieving data for london: from 2013-02-01 to 2013-02-28\n",
      "Time elapsed (hh:mm:ss.ms) 0:00:32.037879\n",
      "Currently retrieving data for london: from 2013-03-01 to 2013-03-31\n",
      "Time elapsed (hh:mm:ss.ms) 0:00:33.056786\n",
      "Currently retrieving data for london: from 2013-04-01 to 2013-04-30\n",
      "Time elapsed (hh:mm:ss.ms) 0:00:33.854769\n",
      "Currently retrieving data for london: from 2013-05-01 to 2013-05-31\n",
      "Time elapsed (hh:mm:ss.ms) 0:00:34.719120\n",
      "Currently retrieving data for london: from 2013-06-01 to 2013-06-30\n",
      "Time elapsed (hh:mm:ss.ms) 0:00:35.788169\n",
      "Currently retrieving data for london: from 2013-07-01 to 2013-07-31\n",
      "Time elapsed (hh:mm:ss.ms) 0:00:38.193353\n",
      "Currently retrieving data for london: from 2013-08-01 to 2013-08-31\n",
      "Time elapsed (hh:mm:ss.ms) 0:00:39.146537\n",
      "Currently retrieving data for london: from 2013-09-01 to 2013-09-30\n",
      "Time elapsed (hh:mm:ss.ms) 0:00:40.427010\n",
      "Currently retrieving data for london: from 2013-10-01 to 2013-10-31\n",
      "Time elapsed (hh:mm:ss.ms) 0:00:41.506686\n",
      "Currently retrieving data for london: from 2013-11-01 to 2013-11-30\n",
      "Time elapsed (hh:mm:ss.ms) 0:00:43.549200\n",
      "Currently retrieving data for london: from 2013-12-01 to 2013-12-31\n",
      "Time elapsed (hh:mm:ss.ms) 0:00:44.321605\n",
      "Currently retrieving data for london: from 2014-01-01 to 2014-01-31\n",
      "Time elapsed (hh:mm:ss.ms) 0:00:45.263322\n",
      "Currently retrieving data for london: from 2014-02-01 to 2014-02-28\n",
      "Time elapsed (hh:mm:ss.ms) 0:00:46.329801\n",
      "Currently retrieving data for london: from 2014-03-01 to 2014-03-30\n",
      "Time elapsed (hh:mm:ss.ms) 0:00:47.503078\n",
      "\n",
      "\n",
      "export london completed!\n",
      "\n",
      "\n"
     ]
    }
   ],
   "source": [
    "frequency=24\n",
    "start_date = '01-NOV-2011'\n",
    "end_date = '30-MAR-2014'\n",
    "api_key = '14cdd3973f744f3fb6b202942223107'\n",
    "location_list = ['london']\n",
    "\n",
    "hist_weather_data = retrieve_hist_data(api_key,\n",
    "                                location_list,\n",
    "                                start_date,\n",
    "                                end_date,\n",
    "                                frequency,\n",
    "                                location_label = False,\n",
    "                                export_csv = True,\n",
    "                                store_df = True)"
   ]
  },
  {
   "cell_type": "code",
   "execution_count": 18,
   "id": "f10c84ca",
   "metadata": {},
   "outputs": [
    {
     "data": {
      "text/plain": [
       "[    date_time maxtempC mintempC totalSnow_cm sunHour uvIndex  \\\n",
       " 0  2011-11-01       15       10          0.0     8.7       3   \n",
       " 0  2011-11-02       15        9          0.0     7.0       3   \n",
       " 0  2011-11-03       18       13          0.0     7.0       4   \n",
       " 0  2011-11-04       16       11          0.0     5.3       3   \n",
       " 0  2011-11-05       14       11          0.0     7.0       3   \n",
       " ..        ...      ...      ...          ...     ...     ...   \n",
       " 0  2014-03-26       11        4          0.0    10.3       2   \n",
       " 0  2014-03-27       10       -1          0.0    11.6       2   \n",
       " 0  2014-03-28       13        2          0.0     9.0       2   \n",
       " 0  2014-03-29       17        6          0.0    11.6       4   \n",
       " 0  2014-03-30       19        8          0.0    10.3       3   \n",
       " \n",
       "    moon_illumination  moonrise     moonset   sunrise  ... WindGustKmph  \\\n",
       " 0                 35  01:40 PM    10:53 PM  07:53 AM  ...           20   \n",
       " 0                 42  02:07 PM  No moonset  07:55 AM  ...           29   \n",
       " 0                 49  02:29 PM    12:05 AM  07:57 AM  ...           26   \n",
       " 0                 56  02:49 PM    01:15 AM  07:59 AM  ...           20   \n",
       " 0                 62  03:07 PM    02:22 AM  08:00 AM  ...           18   \n",
       " ..               ...       ...         ...       ...  ...          ...   \n",
       " 0                 32  04:18 AM    02:15 PM  06:50 AM  ...           28   \n",
       " 0                 25  04:53 AM    03:33 PM  06:47 AM  ...           15   \n",
       " 0                 18  05:24 AM    04:52 PM  06:45 AM  ...           23   \n",
       " 0                 11  05:53 AM    06:10 PM  06:43 AM  ...           28   \n",
       " 0                  5  06:20 AM    07:28 PM  06:41 AM  ...           18   \n",
       " \n",
       "    cloudcover humidity precipMM pressure tempC visibility winddirDegree  \\\n",
       " 0          42       87      0.5     1009    15          9           206   \n",
       " 0          46       89      1.2     1005    15          9           143   \n",
       " 0          58       92      2.8      993    18          6           155   \n",
       " 0          72       92      8.7      995    16          7           174   \n",
       " 0          56       93      0.8     1006    14          6           273   \n",
       " ..        ...      ...      ...      ...   ...        ...           ...   \n",
       " 0          58       80      0.7     1012    11          9           168   \n",
       " 0          60       82      2.0     1013    10          5            71   \n",
       " 0          62       83      1.2     1015    13          7            84   \n",
       " 0          21       74      0.0     1014    17         10           103   \n",
       " 0          33       74      0.0     1013    19         10           131   \n",
       " \n",
       "    windspeedKmph location  \n",
       " 0             12   london  \n",
       " 0             18   london  \n",
       " 0             16   london  \n",
       " 0             13   london  \n",
       " 0             12   london  \n",
       " ..           ...      ...  \n",
       " 0             18   london  \n",
       " 0             10   london  \n",
       " 0             13   london  \n",
       " 0             16   london  \n",
       " 0             10   london  \n",
       " \n",
       " [881 rows x 25 columns]]"
      ]
     },
     "execution_count": 18,
     "metadata": {},
     "output_type": "execute_result"
    }
   ],
   "source": [
    "hist_weather_data[:1]\n"
   ]
  },
  {
   "cell_type": "code",
   "execution_count": null,
   "id": "83cb807b",
   "metadata": {},
   "outputs": [],
   "source": []
  },
  {
   "cell_type": "code",
   "execution_count": null,
   "id": "9f13412b",
   "metadata": {},
   "outputs": [],
   "source": []
  }
 ],
 "metadata": {
  "kernelspec": {
   "display_name": "Python 3 (ipykernel)",
   "language": "python",
   "name": "python3"
  },
  "language_info": {
   "codemirror_mode": {
    "name": "ipython",
    "version": 3
   },
   "file_extension": ".py",
   "mimetype": "text/x-python",
   "name": "python",
   "nbconvert_exporter": "python",
   "pygments_lexer": "ipython3",
   "version": "3.9.12"
  }
 },
 "nbformat": 4,
 "nbformat_minor": 5
}
