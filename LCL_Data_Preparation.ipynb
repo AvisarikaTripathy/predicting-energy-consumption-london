{
 "cells": [
  {
   "cell_type": "code",
   "execution_count": 2,
   "id": "f0c424a3",
   "metadata": {},
   "outputs": [],
   "source": [
    "import pandas as pd\n",
    "from tqdm import tqdm\n"
   ]
  },
  {
   "cell_type": "code",
   "execution_count": 22,
   "id": "a7bd51f6",
   "metadata": {},
   "outputs": [
    {
     "name": "stderr",
     "output_type": "stream",
     "text": [
      "100%|████████████████████████████████████████████████████████████████████████████████| 168/168 [05:58<00:00,  2.13s/it]\n"
     ]
    }
   ],
   "source": [
    "\n",
    "df = pd.DataFrame()\n",
    "for num in tqdm(range(0,168)):\n",
    "    df_unit = pd.read_csv(\"/Users/avitr/OneDrive/Desktop/archive (2)/code/Small LCL Data/LCL-June2015v2_\"+str(num)+\".csv\")\n",
    "    #df_unit = pd.read_csv(\"/Users/amt47/Downloads/Small LCL Data/LCL-June2015v2_\"+str(num)+\".csv\")\n",
    "    df_unit['date'] = pd.to_datetime(df_unit.DateTime,infer_datetime_format=True).dt.date\n",
    "    df_unit.set_axis(['LCLid', 'stdorToU', 'DateTime', 'energy', 'day'], axis=1, inplace=True)\n",
    "    df_unit = df_unit[df_unit['energy'] != 'Null']\n",
    "    df_unit.energy = df_unit.energy.astype(float).fillna(0.0)\n",
    "    df_unit = df_unit.groupby(['LCLid','day'])['energy'].sum().reset_index()\n",
    "    df_unit = df_unit[['day','LCLid','energy']]\n",
    "    #df.to_csv(\"hc_\"+str(num)+\".csv\")\n",
    "    df = pd.concat([df, df_unit], axis=0)"
   ]
  },
  {
   "cell_type": "code",
   "execution_count": 27,
   "id": "448b6334",
   "metadata": {},
   "outputs": [
    {
     "data": {
      "text/plain": [
       "(3510568, 3)"
      ]
     },
     "execution_count": 27,
     "metadata": {},
     "output_type": "execute_result"
    }
   ],
   "source": [
    "df.shape"
   ]
  },
  {
   "cell_type": "code",
   "execution_count": 28,
   "id": "6101bfd3",
   "metadata": {},
   "outputs": [
    {
     "data": {
      "text/html": [
       "<div>\n",
       "<style scoped>\n",
       "    .dataframe tbody tr th:only-of-type {\n",
       "        vertical-align: middle;\n",
       "    }\n",
       "\n",
       "    .dataframe tbody tr th {\n",
       "        vertical-align: top;\n",
       "    }\n",
       "\n",
       "    .dataframe thead th {\n",
       "        text-align: right;\n",
       "    }\n",
       "</style>\n",
       "<table border=\"1\" class=\"dataframe\">\n",
       "  <thead>\n",
       "    <tr style=\"text-align: right;\">\n",
       "      <th></th>\n",
       "      <th>day</th>\n",
       "      <th>LCLid</th>\n",
       "      <th>energy</th>\n",
       "    </tr>\n",
       "  </thead>\n",
       "  <tbody>\n",
       "    <tr>\n",
       "      <th>0</th>\n",
       "      <td>2012-10-12</td>\n",
       "      <td>MAC000002</td>\n",
       "      <td>7.098</td>\n",
       "    </tr>\n",
       "    <tr>\n",
       "      <th>1</th>\n",
       "      <td>2012-10-13</td>\n",
       "      <td>MAC000002</td>\n",
       "      <td>11.087</td>\n",
       "    </tr>\n",
       "    <tr>\n",
       "      <th>2</th>\n",
       "      <td>2012-10-14</td>\n",
       "      <td>MAC000002</td>\n",
       "      <td>13.223</td>\n",
       "    </tr>\n",
       "    <tr>\n",
       "      <th>3</th>\n",
       "      <td>2012-10-15</td>\n",
       "      <td>MAC000002</td>\n",
       "      <td>10.257</td>\n",
       "    </tr>\n",
       "    <tr>\n",
       "      <th>4</th>\n",
       "      <td>2012-10-16</td>\n",
       "      <td>MAC000002</td>\n",
       "      <td>9.769</td>\n",
       "    </tr>\n",
       "  </tbody>\n",
       "</table>\n",
       "</div>"
      ],
      "text/plain": [
       "          day      LCLid  energy\n",
       "0  2012-10-12  MAC000002   7.098\n",
       "1  2012-10-13  MAC000002  11.087\n",
       "2  2012-10-14  MAC000002  13.223\n",
       "3  2012-10-15  MAC000002  10.257\n",
       "4  2012-10-16  MAC000002   9.769"
      ]
     },
     "execution_count": 28,
     "metadata": {},
     "output_type": "execute_result"
    }
   ],
   "source": [
    "df.head()"
   ]
  },
  {
   "cell_type": "code",
   "execution_count": 29,
   "id": "d0a112d5",
   "metadata": {},
   "outputs": [],
   "source": [
    "df.to_csv('energy_LCL.csv', index=False )"
   ]
  },
  {
   "cell_type": "code",
   "execution_count": null,
   "id": "b8530a26",
   "metadata": {},
   "outputs": [],
   "source": []
  }
 ],
 "metadata": {
  "kernelspec": {
   "display_name": "Python 3 (ipykernel)",
   "language": "python",
   "name": "python3"
  },
  "language_info": {
   "codemirror_mode": {
    "name": "ipython",
    "version": 3
   },
   "file_extension": ".py",
   "mimetype": "text/x-python",
   "name": "python",
   "nbconvert_exporter": "python",
   "pygments_lexer": "ipython3",
   "version": "3.9.12"
  }
 },
 "nbformat": 4,
 "nbformat_minor": 5
}
